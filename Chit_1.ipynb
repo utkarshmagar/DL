{
 "cells": [
  {
   "cell_type": "markdown",
   "id": "0c57155a",
   "metadata": {},
   "source": [
    "# Implementing Feedforward neural networks with Keras and TensorFlow for classification of  hand-written MNIST dataset using below steps: \n",
    "a. Import the necessary packages\n",
    "b. Load the training and testing data \n",
    "c. Define the network architecture using Keras \n",
    "d. Train the model using SGD with 11 epochs\n",
    "e. Evaluate the network  \n",
    "f. Plot the training loss and accuracy"
   ]
  },
  {
   "cell_type": "markdown",
   "id": "8ce42ddf",
   "metadata": {},
   "source": [
    "# a. Import the necessary packages"
   ]
  },
  {
   "cell_type": "code",
   "execution_count": 2,
   "id": "356d5094",
   "metadata": {},
   "outputs": [],
   "source": [
    "import tensorflow as tf"
   ]
  },
  {
   "cell_type": "code",
   "execution_count": 3,
   "id": "15b41adc",
   "metadata": {},
   "outputs": [],
   "source": [
    "from tensorflow.keras.datasets import mnist"
   ]
  },
  {
   "cell_type": "code",
   "execution_count": 6,
   "id": "78f11f3a",
   "metadata": {},
   "outputs": [],
   "source": [
    "from sklearn.preprocessing import LabelBinarizer"
   ]
  },
  {
   "cell_type": "code",
   "execution_count": 8,
   "id": "4ef9d8bb",
   "metadata": {},
   "outputs": [],
   "source": [
    "from tensorflow.keras.models import Sequential"
   ]
  },
  {
   "cell_type": "code",
   "execution_count": 9,
   "id": "35993081",
   "metadata": {},
   "outputs": [],
   "source": [
    "from tensorflow.keras.layers import Dense"
   ]
  },
  {
   "cell_type": "code",
   "execution_count": 48,
   "id": "ca5eeb70",
   "metadata": {},
   "outputs": [],
   "source": [
    "import matplotlib.pyplot as plt"
   ]
  },
  {
   "cell_type": "code",
   "execution_count": 12,
   "id": "3d390e7e",
   "metadata": {},
   "outputs": [],
   "source": [
    "import numpy as np"
   ]
  },
  {
   "cell_type": "markdown",
   "id": "64c282d1",
   "metadata": {},
   "source": [
    "# b. Load the training and testing data "
   ]
  },
  {
   "cell_type": "code",
   "execution_count": 15,
   "id": "abb5c842",
   "metadata": {},
   "outputs": [],
   "source": [
    "((x_train, y_train), (x_test, y_test)) = mnist.load_data(\"mnist.npz\")"
   ]
  },
  {
   "cell_type": "code",
   "execution_count": 16,
   "id": "c58b727c",
   "metadata": {},
   "outputs": [
    {
     "name": "stdout",
     "output_type": "stream",
     "text": [
      "[[[0 0 0 ... 0 0 0]\n",
      "  [0 0 0 ... 0 0 0]\n",
      "  [0 0 0 ... 0 0 0]\n",
      "  ...\n",
      "  [0 0 0 ... 0 0 0]\n",
      "  [0 0 0 ... 0 0 0]\n",
      "  [0 0 0 ... 0 0 0]]\n",
      "\n",
      " [[0 0 0 ... 0 0 0]\n",
      "  [0 0 0 ... 0 0 0]\n",
      "  [0 0 0 ... 0 0 0]\n",
      "  ...\n",
      "  [0 0 0 ... 0 0 0]\n",
      "  [0 0 0 ... 0 0 0]\n",
      "  [0 0 0 ... 0 0 0]]\n",
      "\n",
      " [[0 0 0 ... 0 0 0]\n",
      "  [0 0 0 ... 0 0 0]\n",
      "  [0 0 0 ... 0 0 0]\n",
      "  ...\n",
      "  [0 0 0 ... 0 0 0]\n",
      "  [0 0 0 ... 0 0 0]\n",
      "  [0 0 0 ... 0 0 0]]\n",
      "\n",
      " ...\n",
      "\n",
      " [[0 0 0 ... 0 0 0]\n",
      "  [0 0 0 ... 0 0 0]\n",
      "  [0 0 0 ... 0 0 0]\n",
      "  ...\n",
      "  [0 0 0 ... 0 0 0]\n",
      "  [0 0 0 ... 0 0 0]\n",
      "  [0 0 0 ... 0 0 0]]\n",
      "\n",
      " [[0 0 0 ... 0 0 0]\n",
      "  [0 0 0 ... 0 0 0]\n",
      "  [0 0 0 ... 0 0 0]\n",
      "  ...\n",
      "  [0 0 0 ... 0 0 0]\n",
      "  [0 0 0 ... 0 0 0]\n",
      "  [0 0 0 ... 0 0 0]]\n",
      "\n",
      " [[0 0 0 ... 0 0 0]\n",
      "  [0 0 0 ... 0 0 0]\n",
      "  [0 0 0 ... 0 0 0]\n",
      "  ...\n",
      "  [0 0 0 ... 0 0 0]\n",
      "  [0 0 0 ... 0 0 0]\n",
      "  [0 0 0 ... 0 0 0]]]\n"
     ]
    }
   ],
   "source": [
    "print(x_train)"
   ]
  },
  {
   "cell_type": "code",
   "execution_count": 17,
   "id": "ad32d556",
   "metadata": {},
   "outputs": [
    {
     "name": "stdout",
     "output_type": "stream",
     "text": [
      "[5 0 4 ... 5 6 8]\n"
     ]
    }
   ],
   "source": [
    "print(y_train)"
   ]
  },
  {
   "cell_type": "code",
   "execution_count": 18,
   "id": "8202a06d",
   "metadata": {},
   "outputs": [
    {
     "name": "stdout",
     "output_type": "stream",
     "text": [
      "[[[0 0 0 ... 0 0 0]\n",
      "  [0 0 0 ... 0 0 0]\n",
      "  [0 0 0 ... 0 0 0]\n",
      "  ...\n",
      "  [0 0 0 ... 0 0 0]\n",
      "  [0 0 0 ... 0 0 0]\n",
      "  [0 0 0 ... 0 0 0]]\n",
      "\n",
      " [[0 0 0 ... 0 0 0]\n",
      "  [0 0 0 ... 0 0 0]\n",
      "  [0 0 0 ... 0 0 0]\n",
      "  ...\n",
      "  [0 0 0 ... 0 0 0]\n",
      "  [0 0 0 ... 0 0 0]\n",
      "  [0 0 0 ... 0 0 0]]\n",
      "\n",
      " [[0 0 0 ... 0 0 0]\n",
      "  [0 0 0 ... 0 0 0]\n",
      "  [0 0 0 ... 0 0 0]\n",
      "  ...\n",
      "  [0 0 0 ... 0 0 0]\n",
      "  [0 0 0 ... 0 0 0]\n",
      "  [0 0 0 ... 0 0 0]]\n",
      "\n",
      " ...\n",
      "\n",
      " [[0 0 0 ... 0 0 0]\n",
      "  [0 0 0 ... 0 0 0]\n",
      "  [0 0 0 ... 0 0 0]\n",
      "  ...\n",
      "  [0 0 0 ... 0 0 0]\n",
      "  [0 0 0 ... 0 0 0]\n",
      "  [0 0 0 ... 0 0 0]]\n",
      "\n",
      " [[0 0 0 ... 0 0 0]\n",
      "  [0 0 0 ... 0 0 0]\n",
      "  [0 0 0 ... 0 0 0]\n",
      "  ...\n",
      "  [0 0 0 ... 0 0 0]\n",
      "  [0 0 0 ... 0 0 0]\n",
      "  [0 0 0 ... 0 0 0]]\n",
      "\n",
      " [[0 0 0 ... 0 0 0]\n",
      "  [0 0 0 ... 0 0 0]\n",
      "  [0 0 0 ... 0 0 0]\n",
      "  ...\n",
      "  [0 0 0 ... 0 0 0]\n",
      "  [0 0 0 ... 0 0 0]\n",
      "  [0 0 0 ... 0 0 0]]]\n"
     ]
    }
   ],
   "source": [
    "print(x_test)"
   ]
  },
  {
   "cell_type": "code",
   "execution_count": 19,
   "id": "9b00fd54",
   "metadata": {},
   "outputs": [
    {
     "name": "stdout",
     "output_type": "stream",
     "text": [
      "[7 2 1 ... 4 5 6]\n"
     ]
    }
   ],
   "source": [
    "print(y_test)"
   ]
  },
  {
   "cell_type": "code",
   "execution_count": 20,
   "id": "8f19604c",
   "metadata": {},
   "outputs": [
    {
     "data": {
      "text/plain": [
       "(60000, 28, 28)"
      ]
     },
     "execution_count": 20,
     "metadata": {},
     "output_type": "execute_result"
    }
   ],
   "source": [
    "x_train.shape"
   ]
  },
  {
   "cell_type": "code",
   "execution_count": 23,
   "id": "8b3725f1",
   "metadata": {},
   "outputs": [],
   "source": [
    "x_train = x_train.reshape(x_train.shape[0], 28*28*1)"
   ]
  },
  {
   "cell_type": "code",
   "execution_count": 24,
   "id": "cd27a8e9",
   "metadata": {},
   "outputs": [
    {
     "data": {
      "text/plain": [
       "(10000, 28, 28)"
      ]
     },
     "execution_count": 24,
     "metadata": {},
     "output_type": "execute_result"
    }
   ],
   "source": [
    "x_test.shape"
   ]
  },
  {
   "cell_type": "code",
   "execution_count": 25,
   "id": "fdb7484c",
   "metadata": {},
   "outputs": [],
   "source": [
    "x_test = x_test.reshape(x_test.shape[0], 28*28*1)"
   ]
  },
  {
   "cell_type": "code",
   "execution_count": 26,
   "id": "f0a515fd",
   "metadata": {},
   "outputs": [
    {
     "data": {
      "text/plain": [
       "(60000, 784)"
      ]
     },
     "execution_count": 26,
     "metadata": {},
     "output_type": "execute_result"
    }
   ],
   "source": [
    "x_train.shape"
   ]
  },
  {
   "cell_type": "code",
   "execution_count": 27,
   "id": "2814b5a1",
   "metadata": {},
   "outputs": [
    {
     "data": {
      "text/plain": [
       "(10000, 784)"
      ]
     },
     "execution_count": 27,
     "metadata": {},
     "output_type": "execute_result"
    }
   ],
   "source": [
    "x_test.shape"
   ]
  },
  {
   "cell_type": "code",
   "execution_count": 28,
   "id": "f89d4275",
   "metadata": {},
   "outputs": [],
   "source": [
    "x_train = x_train.astype(\"float32\")/255.0"
   ]
  },
  {
   "cell_type": "code",
   "execution_count": 29,
   "id": "df0550e1",
   "metadata": {},
   "outputs": [],
   "source": [
    "x_test = x_test.astype(\"float32\")/255.0"
   ]
  },
  {
   "cell_type": "code",
   "execution_count": 30,
   "id": "2caa59e6",
   "metadata": {},
   "outputs": [
    {
     "data": {
      "text/plain": [
       "array([5, 0, 4, ..., 5, 6, 8], dtype=uint8)"
      ]
     },
     "execution_count": 30,
     "metadata": {},
     "output_type": "execute_result"
    }
   ],
   "source": [
    "y_train"
   ]
  },
  {
   "cell_type": "code",
   "execution_count": 31,
   "id": "0d95b843",
   "metadata": {},
   "outputs": [],
   "source": [
    "lb = LabelBinarizer()\n",
    "y_train = lb.fit_transform(y_train)\n",
    "y_test = lb.fit_transform(y_test)"
   ]
  },
  {
   "cell_type": "code",
   "execution_count": 32,
   "id": "ce81fbff",
   "metadata": {},
   "outputs": [
    {
     "data": {
      "text/plain": [
       "array([[0, 0, 0, ..., 0, 0, 0],\n",
       "       [1, 0, 0, ..., 0, 0, 0],\n",
       "       [0, 0, 0, ..., 0, 0, 0],\n",
       "       ...,\n",
       "       [0, 0, 0, ..., 0, 0, 0],\n",
       "       [0, 0, 0, ..., 0, 0, 0],\n",
       "       [0, 0, 0, ..., 0, 1, 0]])"
      ]
     },
     "execution_count": 32,
     "metadata": {},
     "output_type": "execute_result"
    }
   ],
   "source": [
    "y_train"
   ]
  },
  {
   "cell_type": "markdown",
   "id": "81a75c64",
   "metadata": {},
   "source": [
    "# c. Define the network architecture using Keras "
   ]
  },
  {
   "cell_type": "code",
   "execution_count": 34,
   "id": "5510f0e0",
   "metadata": {},
   "outputs": [],
   "source": [
    "model = Sequential()"
   ]
  },
  {
   "cell_type": "code",
   "execution_count": 35,
   "id": "ce67986e",
   "metadata": {},
   "outputs": [],
   "source": [
    "model.add(Dense(64, input_shape=(784, ), activation='relu'))"
   ]
  },
  {
   "cell_type": "code",
   "execution_count": 36,
   "id": "18a84478",
   "metadata": {},
   "outputs": [],
   "source": [
    "model.add(Dense(32, activation='relu'))"
   ]
  },
  {
   "cell_type": "code",
   "execution_count": 37,
   "id": "752299e5",
   "metadata": {},
   "outputs": [],
   "source": [
    "model.add(Dense(10, activation='softmax'))"
   ]
  },
  {
   "cell_type": "code",
   "execution_count": 39,
   "id": "ea0a8896",
   "metadata": {},
   "outputs": [
    {
     "name": "stdout",
     "output_type": "stream",
     "text": [
      "Model: \"sequential_1\"\n",
      "_________________________________________________________________\n",
      " Layer (type)                Output Shape              Param #   \n",
      "=================================================================\n",
      " dense (Dense)               (None, 64)                50240     \n",
      "                                                                 \n",
      " dense_1 (Dense)             (None, 32)                2080      \n",
      "                                                                 \n",
      " dense_2 (Dense)             (None, 10)                330       \n",
      "                                                                 \n",
      "=================================================================\n",
      "Total params: 52,650\n",
      "Trainable params: 52,650\n",
      "Non-trainable params: 0\n",
      "_________________________________________________________________\n"
     ]
    }
   ],
   "source": [
    "model.summary()"
   ]
  },
  {
   "cell_type": "markdown",
   "id": "548c4608",
   "metadata": {},
   "source": [
    "# d. Train the model using SGD with 11 epochs "
   ]
  },
  {
   "cell_type": "code",
   "execution_count": 42,
   "id": "13b0159f",
   "metadata": {},
   "outputs": [],
   "source": [
    "model.compile(optimizer='sgd', loss='categorical_crossentropy', metrics=['Accuracy'])"
   ]
  },
  {
   "cell_type": "code",
   "execution_count": 43,
   "id": "9ed2179d",
   "metadata": {},
   "outputs": [
    {
     "name": "stdout",
     "output_type": "stream",
     "text": [
      "Epoch 1/11\n",
      "600/600 [==============================] - 2s 3ms/step - loss: 1.2986 - Accuracy: 0.6378 - val_loss: 0.6201 - val_Accuracy: 0.8366\n",
      "Epoch 2/11\n",
      "600/600 [==============================] - 1s 2ms/step - loss: 0.5074 - Accuracy: 0.8605 - val_loss: 0.4109 - val_Accuracy: 0.8842\n",
      "Epoch 3/11\n",
      "600/600 [==============================] - 1s 2ms/step - loss: 0.3883 - Accuracy: 0.8906 - val_loss: 0.3412 - val_Accuracy: 0.9035\n",
      "Epoch 4/11\n",
      "600/600 [==============================] - 1s 2ms/step - loss: 0.3379 - Accuracy: 0.9043 - val_loss: 0.3058 - val_Accuracy: 0.9121\n",
      "Epoch 5/11\n",
      "600/600 [==============================] - 1s 2ms/step - loss: 0.3075 - Accuracy: 0.9123 - val_loss: 0.2857 - val_Accuracy: 0.9197\n",
      "Epoch 6/11\n",
      "600/600 [==============================] - 1s 2ms/step - loss: 0.2858 - Accuracy: 0.9180 - val_loss: 0.2697 - val_Accuracy: 0.9216\n",
      "Epoch 7/11\n",
      "600/600 [==============================] - 1s 2ms/step - loss: 0.2690 - Accuracy: 0.9219 - val_loss: 0.2527 - val_Accuracy: 0.9291\n",
      "Epoch 8/11\n",
      "600/600 [==============================] - 1s 2ms/step - loss: 0.2548 - Accuracy: 0.9267 - val_loss: 0.2423 - val_Accuracy: 0.9310\n",
      "Epoch 9/11\n",
      "600/600 [==============================] - 1s 2ms/step - loss: 0.2426 - Accuracy: 0.9303 - val_loss: 0.2315 - val_Accuracy: 0.9342\n",
      "Epoch 10/11\n",
      "600/600 [==============================] - 1s 2ms/step - loss: 0.2318 - Accuracy: 0.9333 - val_loss: 0.2233 - val_Accuracy: 0.9348\n",
      "Epoch 11/11\n",
      "600/600 [==============================] - 1s 2ms/step - loss: 0.2220 - Accuracy: 0.9362 - val_loss: 0.2144 - val_Accuracy: 0.9379\n"
     ]
    }
   ],
   "source": [
    "h = model.fit(x_train, y_train, validation_data=(x_test, y_test), epochs=11, batch_size=100)"
   ]
  },
  {
   "cell_type": "markdown",
   "id": "cc4b8ffc",
   "metadata": {},
   "source": [
    "# e. Evaluate the network "
   ]
  },
  {
   "cell_type": "code",
   "execution_count": 44,
   "id": "a2ab8b7f",
   "metadata": {},
   "outputs": [],
   "source": [
    "from sklearn.metrics import classification_report"
   ]
  },
  {
   "cell_type": "code",
   "execution_count": 45,
   "id": "cc5e6137",
   "metadata": {},
   "outputs": [
    {
     "name": "stdout",
     "output_type": "stream",
     "text": [
      "100/100 [==============================] - 0s 2ms/step\n"
     ]
    }
   ],
   "source": [
    "predicted = model.predict(x_test, batch_size=100)"
   ]
  },
  {
   "cell_type": "code",
   "execution_count": 46,
   "id": "2915735b",
   "metadata": {},
   "outputs": [
    {
     "name": "stdout",
     "output_type": "stream",
     "text": [
      "              precision    recall  f1-score   support\n",
      "\n",
      "           0       0.95      0.98      0.97       980\n",
      "           1       0.97      0.98      0.97      1135\n",
      "           2       0.94      0.91      0.93      1032\n",
      "           3       0.92      0.93      0.93      1010\n",
      "           4       0.93      0.93      0.93       982\n",
      "           5       0.93      0.91      0.92       892\n",
      "           6       0.93      0.96      0.95       958\n",
      "           7       0.94      0.94      0.94      1028\n",
      "           8       0.93      0.91      0.92       974\n",
      "           9       0.92      0.92      0.92      1009\n",
      "\n",
      "    accuracy                           0.94     10000\n",
      "   macro avg       0.94      0.94      0.94     10000\n",
      "weighted avg       0.94      0.94      0.94     10000\n",
      "\n"
     ]
    }
   ],
   "source": [
    "print(classification_report(y_test.argmax(axis=1), predicted.argmax(axis=1)))"
   ]
  },
  {
   "cell_type": "markdown",
   "id": "c84d584e",
   "metadata": {},
   "source": [
    "# f. Plot the training loss and accuracy"
   ]
  },
  {
   "cell_type": "code",
   "execution_count": 54,
   "id": "81088f71",
   "metadata": {},
   "outputs": [
    {
     "data": {
      "text/plain": [
       "<matplotlib.legend.Legend at 0x7f5a80933190>"
      ]
     },
     "execution_count": 54,
     "metadata": {},
     "output_type": "execute_result"
    },
    {
     "data": {
      "image/png": "[encoded data removed]",
      "text/plain": [
       "<Figure size 640x480 with 1 Axes>"
      ]
     },
     "metadata": {},
     "output_type": "display_data"
    }
   ],
   "source": [
    "plt.figure()\n",
    "plt.plot(np.arange(0, 11), h.history['loss'], label='loss')\n",
    "plt.plot(np.arange(0, 11), h.history['Accuracy'], label='Accuracy')\n",
    "plt.plot(np.arange(0, 11), h.history['val_loss'], label='val_loss')\n",
    "plt.plot(np.arange(0, 11), h.history['val_Accuracy'], label='val_Accuracy')\n",
    "plt.legend()"
   ]
  }
 ],
 "metadata": {
  "kernelspec": {
   "display_name": "Python 3 (ipykernel)",
   "language": "python",
   "name": "python3"
  },
  "language_info": {
   "codemirror_mode": {
    "name": "ipython",
    "version": 3
   },
   "file_extension": ".py",
   "mimetype": "text/x-python",
   "name": "python",
   "nbconvert_exporter": "python",
   "pygments_lexer": "ipython3",
   "version": "3.8.10"
  }
 },
 "nbformat": 4,
 "nbformat_minor": 5
}
